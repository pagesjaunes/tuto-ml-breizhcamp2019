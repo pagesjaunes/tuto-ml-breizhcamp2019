{
 "cells": [
  {
   "cell_type": "markdown",
   "metadata": {
    "slideshow": {
     "slide_type": "slide"
    }
   },
   "source": [
    "# <br/>\n",
    "\n",
    "\n",
    "# Machine Learning pour tous avec Python\n",
    "\n",
    "Créer un modèle prédictif avec 10 lignes de code!\n",
    "# <br/>\n",
    "\n",
    "Présenté par **Robin Allesiardo** de **PJD/CT_Lego** (rallesiardo_at_solocal.com)\n",
    "\n",
    "Pour le **BreizhCamp 2019**\n",
    "![solocal](ressources/foot_solocal.png)"
   ]
  },
  {
   "cell_type": "markdown",
   "metadata": {
    "slideshow": {
     "slide_type": "skip"
    }
   },
   "source": [
    "jupyter nbconvert Jupyter \"BreizCampML.ipynb\" --to slides"
   ]
  },
  {
   "cell_type": "markdown",
   "metadata": {
    "slideshow": {
     "slide_type": "slide"
    }
   },
   "source": [
    "![gafa](ressources/gafa.png)"
   ]
  },
  {
   "cell_type": "markdown",
   "metadata": {
    "slideshow": {
     "slide_type": "slide"
    }
   },
   "source": [
    "![](ressources/lego.png)"
   ]
  },
  {
   "cell_type": "markdown",
   "metadata": {
    "slideshow": {
     "slide_type": "slide"
    }
   },
   "source": [
    "![](ressources/workflow.png)"
   ]
  },
  {
   "cell_type": "markdown",
   "metadata": {
    "slideshow": {
     "slide_type": "slide"
    }
   },
   "source": [
    "## Plan\n",
    "\n",
    "* Les principes du Machine Learning\n",
    "\n",
    "* Exemple par le code\n",
    "    * En python (https://www.python.org/)\n",
    "        * sklearn (http://scikit-learn.org/)\n",
    "        * pandas (https://pandas.pydata.org/)\n",
    "        \n",
    "![](pandassklearn.png)"
   ]
  },
  {
   "cell_type": "markdown",
   "metadata": {
    "slideshow": {
     "slide_type": "slide"
    }
   },
   "source": [
    "# De novices du ML...\n",
    "<img src=\"ressources/strangerthings.jpg\" alt=\"strangerthings\" width=\"600\"/>"
   ]
  },
  {
   "cell_type": "markdown",
   "metadata": {
    "slideshow": {
     "slide_type": "slide"
    }
   },
   "source": [
    "# ... en professionnels aguerris\n",
    "\n",
    "<img src=\"ressources/sos.jpg\" alt=\"sos\" width=\"600\"/>"
   ]
  },
  {
   "cell_type": "markdown",
   "metadata": {
    "slideshow": {
     "slide_type": "slide"
    }
   },
   "source": [
    "\n",
    "## Vous avez dit Machine Learning?\n",
    "\n",
    "<img src=\"ressources/patates.png\" alt=\"patates\" width=\"500\"/>\n",
    "\n",
    "* Un sous-domaine de l'IA\n",
    "* Apprendre des choses à des machines de manière automatique"
   ]
  },
  {
   "cell_type": "markdown",
   "metadata": {
    "slideshow": {
     "slide_type": "slide"
    }
   },
   "source": [
    "## L'apprentissage supervisé\n"
   ]
  },
  {
   "cell_type": "code",
   "execution_count": 1,
   "metadata": {
    "slideshow": {
     "slide_type": "skip"
    }
   },
   "outputs": [
    {
     "name": "stdout",
     "output_type": "stream",
     "text": [
      "Requirement already satisfied: matplotlib in /Users/rallesiardo/.local/share/virtualenvs/base/lib/python3.6/site-packages (3.0.3)\n",
      "Requirement already satisfied: tqdm in /Users/rallesiardo/.local/share/virtualenvs/base/lib/python3.6/site-packages (4.31.1)\n",
      "Requirement already satisfied: pyparsing!=2.0.4,!=2.1.2,!=2.1.6,>=2.0.1 in /Users/rallesiardo/.local/share/virtualenvs/base/lib/python3.6/site-packages (from matplotlib) (2.3.1)\n",
      "Requirement already satisfied: cycler>=0.10 in /Users/rallesiardo/.local/share/virtualenvs/base/lib/python3.6/site-packages (from matplotlib) (0.10.0)\n",
      "Requirement already satisfied: python-dateutil>=2.1 in /Users/rallesiardo/.local/share/virtualenvs/base/lib/python3.6/site-packages (from matplotlib) (2.8.0)\n",
      "Requirement already satisfied: kiwisolver>=1.0.1 in /Users/rallesiardo/.local/share/virtualenvs/base/lib/python3.6/site-packages (from matplotlib) (1.0.1)\n",
      "Requirement already satisfied: numpy>=1.10.0 in /Users/rallesiardo/.local/share/virtualenvs/base/lib/python3.6/site-packages (from matplotlib) (1.16.1)\n",
      "Requirement already satisfied: six in /Users/rallesiardo/.local/share/virtualenvs/base/lib/python3.6/site-packages (from cycler>=0.10->matplotlib) (1.12.0)\n",
      "Requirement already satisfied: setuptools in /Users/rallesiardo/.local/share/virtualenvs/base/lib/python3.6/site-packages (from kiwisolver>=1.0.1->matplotlib) (40.8.0)\n",
      "\u001b[33mYou are using pip version 19.0.2, however version 19.0.3 is available.\n",
      "You should consider upgrading via the 'pip install --upgrade pip' command.\u001b[0m\n"
     ]
    }
   ],
   "source": [
    "import sys\n",
    "!{sys.executable} -m pip install matplotlib tqdm"
   ]
  },
  {
   "cell_type": "code",
   "execution_count": 2,
   "metadata": {
    "slideshow": {
     "slide_type": "skip"
    }
   },
   "outputs": [],
   "source": [
    "import numpy as np, pandas, sklearn\n",
    "import matplotlib.pyplot as plt\n",
    "from sklearn.ensemble import RandomForestClassifier\n",
    "import warnings\n",
    "warnings.filterwarnings('ignore')\n",
    "from sklearn import svm, datasets\n",
    "%matplotlib inline\n",
    "\n",
    "\"\"\"\n",
    "Source du bloc: http://scikit-learn.org/stable/auto_examples/svm/plot_iris.html\n",
    "\"\"\"\n",
    "\n",
    "def make_meshgrid(x, y, h=.02):\n",
    "    \"\"\"Create a mesh of points to plot in\n",
    "\n",
    "    Parameters\n",
    "    ----------\n",
    "    x: data to base x-axis meshgrid on\n",
    "    y: data to base y-axis meshgrid on\n",
    "    h: stepsize for meshgrid, optional\n",
    "\n",
    "    Returns\n",
    "    -------\n",
    "    xx, yy : ndarray\n",
    "    \"\"\"\n",
    "    x_min, x_max = x.min() - 1, x.max() + 1\n",
    "    y_min, y_max = y.min() - 1, y.max() + 1\n",
    "    xx, yy = np.meshgrid(np.arange(x_min, x_max, h),\n",
    "                         np.arange(y_min, y_max, h))\n",
    "    return xx, yy\n",
    "\n",
    "\n",
    "def plot_contours(ax, clf, xx, yy, **params):\n",
    "    \"\"\"Plot the decision boundaries for a classifier.\n",
    "\n",
    "    Parameters\n",
    "    ----------\n",
    "    ax: matplotlib axes object\n",
    "    clf: a classifier\n",
    "    xx: meshgrid ndarray\n",
    "    yy: meshgrid ndarray\n",
    "    params: dictionary of params to pass to contourf, optional\n",
    "    \"\"\"\n",
    "    Z = clf.predict(np.c_[xx.ravel(), yy.ravel()])\n",
    "    Z = Z.reshape(xx.shape)\n",
    "    out = ax.contourf(xx, yy, Z, **params)\n",
    "    return out\n",
    "\n",
    "\n",
    "def print_example(only_linear = False):\n",
    "    # import some data to play with\n",
    "    iris = datasets.load_iris()\n",
    "    # Take the first two features. We could avoid this by using a two-dim dataset\n",
    "    X = iris.data[:, :2]\n",
    "    y = iris.target\n",
    "\n",
    "    # we create an instance of SVM and fit out data. We do not scale our\n",
    "    # data since we want to plot the support vectors\n",
    "    C = 1.0  # SVM regularization parameter\n",
    "    \n",
    "    models = (svm.LinearSVC(C=C),\n",
    "              svm.SVC(kernel='rbf', gamma=0.7, C=C),\n",
    "              svm.SVC(kernel='poly', degree=3, C=C),\n",
    "              sklearn.ensemble.RandomForestClassifier(max_depth=3, random_state=0, n_estimators = 50))\n",
    "\n",
    "              \n",
    "    models = (clf.fit(X, y) for clf in models)\n",
    "\n",
    "    # title for the plots\n",
    "    titles = ('Modèle linéaire',\n",
    "              'SVM avec noyaux RBF',\n",
    "              'SVM avec noyaux polynomial',\n",
    "              'Forêt aléatoire')\n",
    "\n",
    "    # Set-up 2x2 grid for plotting.\n",
    "    fig, sub = plt.subplots(2, 2)\n",
    "    plt.subplots_adjust(wspace=0.2, hspace=0.2)\n",
    "    fig.set_figheight(8)\n",
    "    fig.set_figwidth(8)\n",
    "\n",
    "    X0, X1 = X[:, 0], X[:, 1]\n",
    "    xx, yy = make_meshgrid(X0, X1)\n",
    "\n",
    "    for clf, title, ax in zip(models, titles, sub.flatten()):\n",
    "\n",
    "\n",
    "        plot_contours(ax, clf, xx, yy,\n",
    "                      cmap=plt.cm.coolwarm, alpha=0.8)\n",
    "        ax.scatter(X0, X1, c=y, cmap=plt.cm.coolwarm, s=50, edgecolors='k')\n",
    "        ax.set_xlim(xx.min(), xx.max())\n",
    "        ax.set_ylim(yy.min(), yy.max())\n",
    "        ax.set_xlabel('Variable 1')\n",
    "        ax.set_ylabel('Variable 2')\n",
    "        ax.set_xticks(())\n",
    "        ax.set_yticks(())\n",
    "        ax.set_title(title)\n",
    "\n",
    "    plt.show()"
   ]
  },
  {
   "cell_type": "code",
   "execution_count": 3,
   "metadata": {
    "slideshow": {
     "slide_type": "-"
    }
   },
   "outputs": [
    {
     "data": {
      "image/png": "[encoded data removed]",
      "text/plain": [
       "<Figure size 576x576 with 4 Axes>"
      ]
     },
     "metadata": {},
     "output_type": "display_data"
    }
   ],
   "source": [
    "print_example() # Source: http://scikit-learn.org/stable/auto_examples/svm/plot_iris.html"
   ]
  },
  {
   "cell_type": "markdown",
   "metadata": {
    "slideshow": {
     "slide_type": "slide"
    }
   },
   "source": [
    "Exemple: Le jeu de données Iris (catégorisation de type d'Iris)\n",
    "\n",
    "![](ressources/Iris.png)"
   ]
  },
  {
   "cell_type": "code",
   "execution_count": 4,
   "metadata": {
    "slideshow": {
     "slide_type": "slide"
    }
   },
   "outputs": [
    {
     "name": "stdout",
     "output_type": "stream",
     "text": [
      "datapoint: [5.1 3.5 1.4 0.2] label: 0\n",
      "datapoint: [5.9 3.  5.1 1.8] label: 2\n"
     ]
    }
   ],
   "source": [
    "from sklearn import datasets\n",
    "\n",
    "iris = datasets.load_iris()\n",
    "print(\"datapoint:\",iris.data[0], \"label:\", iris.target[0])\n",
    "print(\"datapoint:\",iris.data[-1], \"label:\", iris.target[-1])"
   ]
  },
  {
   "cell_type": "markdown",
   "metadata": {},
   "source": [
    "On cherche à **modéliser** une **fonction mathématique**, qui a partir des **données**, va **apprendre** à **prédire** la **cible**."
   ]
  },
  {
   "cell_type": "code",
   "execution_count": 5,
   "metadata": {
    "slideshow": {
     "slide_type": "slide"
    }
   },
   "outputs": [],
   "source": [
    "import sklearn\n",
    "from sklearn import linear_model\n",
    "\n",
    "# Définition du modèle\n",
    "sgd = linear_model.SGDClassifier(max_iter = 1000, tol = 1e-3)\n",
    "\n",
    "# Optimisation des paramètres du modèle\n",
    "sgd = sgd.fit(iris.data, iris.target)"
   ]
  },
  {
   "cell_type": "code",
   "execution_count": 6,
   "metadata": {
    "slideshow": {
     "slide_type": "fragment"
    }
   },
   "outputs": [],
   "source": [
    "predictions = sgd.predict(iris.data)"
   ]
  },
  {
   "cell_type": "code",
   "execution_count": 7,
   "metadata": {},
   "outputs": [
    {
     "data": {
      "text/plain": [
       "array([0, 0, 0, 0, 0, 0, 0, 0, 0, 0, 0, 0, 0, 0, 0, 0, 0, 0, 0, 0, 0, 0,\n",
       "       0, 0, 0, 0, 0, 0, 0, 0, 0, 0, 0, 0, 0, 0, 0, 0, 0, 0, 0, 0, 0, 0,\n",
       "       0, 0, 0, 0, 0, 0, 1, 1, 1, 1, 1, 1, 1, 1, 1, 1, 1, 1, 1, 1, 1, 1,\n",
       "       1, 1, 1, 1, 2, 1, 1, 1, 1, 1, 1, 1, 1, 1, 1, 1, 1, 2, 1, 1, 1, 1,\n",
       "       1, 1, 1, 1, 1, 1, 1, 1, 1, 1, 1, 1, 2, 2, 2, 2, 2, 2, 2, 2, 2, 2,\n",
       "       2, 2, 2, 2, 2, 2, 2, 2, 2, 1, 2, 2, 2, 1, 2, 2, 1, 2, 2, 1, 2, 2,\n",
       "       2, 1, 2, 2, 2, 2, 2, 2, 2, 2, 2, 2, 2, 2, 2, 2, 2, 2])"
      ]
     },
     "execution_count": 7,
     "metadata": {},
     "output_type": "execute_result"
    }
   ],
   "source": [
    "predictions"
   ]
  },
  {
   "cell_type": "markdown",
   "metadata": {
    "slideshow": {
     "slide_type": "slide"
    }
   },
   "source": [
    "## Un premier type d'erreur: L'erreur de biais"
   ]
  },
  {
   "cell_type": "code",
   "execution_count": 8,
   "metadata": {},
   "outputs": [
    {
     "data": {
      "text/plain": [
       "0.9533333333333334"
      ]
     },
     "execution_count": 8,
     "metadata": {},
     "output_type": "execute_result"
    }
   ],
   "source": [
    "sklearn.metrics.accuracy_score(iris.target, predictions)"
   ]
  },
  {
   "cell_type": "markdown",
   "metadata": {},
   "source": [
    "![biais](ressources/biais.png)"
   ]
  },
  {
   "cell_type": "markdown",
   "metadata": {
    "slideshow": {
     "slide_type": "slide"
    }
   },
   "source": [
    "**L'erreur de biais** dépend de:\n",
    "\n",
    "* L'**expressivité** du modèle \n",
    "     * un modèle linéaire peut uniquement séparer les données avec une droite\n",
    "* La **séparabilité** des données \n",
    "     * les nuages de points superposés sont difficilement séparables, e.g. prédiction du clic\n",
    "\n",
    "Dans le cas du modèle linéaire, il faut que les données soient linéairement séparables."
   ]
  },
  {
   "cell_type": "markdown",
   "metadata": {
    "slideshow": {
     "slide_type": "slide"
    }
   },
   "source": [
    "\n",
    "## La validation croisée\n",
    "On sépare les données en :\n",
    "- un ensemble d'apprentissage\n",
    "- un ensemble de validation\n",
    "- un ensemble de test uniquement utilisé pour le Go / No Go"
   ]
  },
  {
   "cell_type": "code",
   "execution_count": 9,
   "metadata": {
    "slideshow": {
     "slide_type": "fragment"
    }
   },
   "outputs": [],
   "source": [
    "from sklearn.model_selection import train_test_split\n",
    "\n",
    "x_train, x_test, y_train, y_test = train_test_split(iris.data,iris.target, test_size= 0.5, shuffle = True, random_state = 0)"
   ]
  },
  {
   "cell_type": "code",
   "execution_count": 10,
   "metadata": {
    "slideshow": {
     "slide_type": "fragment"
    }
   },
   "outputs": [
    {
     "data": {
      "text/plain": [
       "(150, 75, 75, 75, 75)"
      ]
     },
     "execution_count": 10,
     "metadata": {},
     "output_type": "execute_result"
    }
   ],
   "source": [
    "len(iris.data), len(x_train), len(x_test), len(y_train), len(y_test)"
   ]
  },
  {
   "cell_type": "markdown",
   "metadata": {
    "slideshow": {
     "slide_type": "slide"
    }
   },
   "source": [
    "## La validation croisée en pratique"
   ]
  },
  {
   "cell_type": "code",
   "execution_count": 11,
   "metadata": {
    "slideshow": {
     "slide_type": "-"
    }
   },
   "outputs": [],
   "source": [
    "from sklearn.model_selection import train_test_split\n",
    "\n",
    "x_train, x_test, y_train, y_test = train_test_split(iris.data,iris.target, test_size= 0.5, shuffle = True, random_state = 0)"
   ]
  },
  {
   "cell_type": "code",
   "execution_count": 12,
   "metadata": {
    "slideshow": {
     "slide_type": "fragment"
    }
   },
   "outputs": [],
   "source": [
    "# Définition du modèle\n",
    "sgd = linear_model.SGDClassifier(max_iter = 10000, tol = 0)\n",
    "\n",
    "# Optimisation des paramètres du modèle\n",
    "sgd = sgd.fit(x_train, y_train)"
   ]
  },
  {
   "cell_type": "code",
   "execution_count": 13,
   "metadata": {
    "slideshow": {
     "slide_type": "fragment"
    }
   },
   "outputs": [
    {
     "data": {
      "text/plain": [
       "0.7333333333333333"
      ]
     },
     "execution_count": 13,
     "metadata": {},
     "output_type": "execute_result"
    }
   ],
   "source": [
    "predictions = sgd.predict(x_train)\n",
    "\n",
    "sklearn.metrics.accuracy_score(y_train, predictions)"
   ]
  },
  {
   "cell_type": "code",
   "execution_count": 14,
   "metadata": {
    "slideshow": {
     "slide_type": "fragment"
    }
   },
   "outputs": [
    {
     "data": {
      "text/plain": [
       "0.6"
      ]
     },
     "execution_count": 14,
     "metadata": {},
     "output_type": "execute_result"
    }
   ],
   "source": [
    "predictions = sgd.predict(x_test)\n",
    "\n",
    "sklearn.metrics.accuracy_score(y_test, predictions)"
   ]
  },
  {
   "cell_type": "markdown",
   "metadata": {
    "slideshow": {
     "slide_type": "slide"
    }
   },
   "source": [
    "![biais](ressources/biais.png)"
   ]
  },
  {
   "cell_type": "markdown",
   "metadata": {
    "slideshow": {
     "slide_type": "slide"
    }
   },
   "source": [
    "![variance](ressources/variance.png)"
   ]
  },
  {
   "cell_type": "markdown",
   "metadata": {
    "slideshow": {
     "slide_type": "slide"
    }
   },
   "source": [
    "## L'erreur de variance\n",
    "\n",
    "Une seconde erreur s'appelle l'erreur de variance\n",
    "\n",
    "* variance entre les jeux de données\n",
    "* s'ajoute à l'erreur de biais\n",
    "* plus de données = moins de variance\n",
    "\n",
    "#### Vocabulaire: La capacité d'un modèle à prédire sur de nouvelles données s'appelle la généralisation."
   ]
  },
  {
   "cell_type": "markdown",
   "metadata": {
    "slideshow": {
     "slide_type": "slide"
    }
   },
   "source": [
    "### Le sur-apprentissage\n",
    "\n",
    "* Lorsqu'un modèle a un **biais très faible** (c'est à dire une grosse expressivité) il peut \"coller aux données\"\n",
    "![overfit](ressources/overfitwolf.png)\n",
    "\n",
    "* Un modèle qui **sur-apprend généralisera mal**."
   ]
  },
  {
   "cell_type": "markdown",
   "metadata": {
    "slideshow": {
     "slide_type": "skip"
    }
   },
   "source": [
    "### La cross-validation\n",
    "\n",
    "* Permet de détecter le sur-apprentissage si la performance est différente en apprentissage et en validation/test.\n",
    "* Si les deux performances sont proches, cela ne garantie pas que le modèle généralise bien, uniquement que le modèle a de bonnes chances de bien généraliser.\n",
    "* **Augmenter la taille des deux jeux de données** augmente la **probabilité** que la cross-validation soit valide."
   ]
  },
  {
   "cell_type": "markdown",
   "metadata": {
    "slideshow": {
     "slide_type": "skip"
    }
   },
   "source": [
    "**Pour approfondir**: **théorie epsilon-PAC** (Probablement Approximativement Correct), les bornes sur le **risque empiriques** et la **complexité de Rademacher** ainsi que les **bornes de concentration** comme par exemple l'**inégalité de McDiarmid**."
   ]
  },
  {
   "cell_type": "markdown",
   "metadata": {
    "slideshow": {
     "slide_type": "slide"
    }
   },
   "source": [
    "### Le mot de la fin (de la première partie !)\n",
    "\n",
    "Tout ce qui a été raconté avant est vrai si:\n",
    "\n",
    "* Les données sont **identiquement distribuées**\n",
    "     * Elles sont toutes issues de la même distribution de probabilités\n",
    "* Les données sont **indépendament distribuées**\n",
    "     * La probabilité de voir une donnée ne dépend pas des données tirées précédement\n",
    "\n",
    "On dit que les données dont **I.I.D** (Indépendament et Identiquement Distribuées)."
   ]
  },
  {
   "cell_type": "markdown",
   "metadata": {
    "slideshow": {
     "slide_type": "slide"
    }
   },
   "source": [
    "# Example par le code: Titanic\n",
    "<BR/>\n",
    "<div align=\"middle\">\n",
    "<video width=\"100%\" controls muted autoplay>\n",
    "      <source src=\"ressources/titanic.mp4\" type=\"video/mp4\">\n",
    "</video></div>"
   ]
  },
  {
   "cell_type": "markdown",
   "metadata": {
    "slideshow": {
     "slide_type": "slide"
    }
   },
   "source": [
    "# La donnée brute\n",
    "\n",
    "pclass;survived;name;sex;age;sibsp;parch;ticket;fare;cabin;embarked;boat;body;home.dest  \n",
    "1;1;Allen, Miss. Elisabeth Walton;female;29;0;0;24160;211,3375;B5;S;2;;St Louis, MO  \n",
    "1;1;Allison, Master. Hudson Trevor;male;0,9167;1;2;113781;151,5500;C22 C26;S;11;;Montreal, PQ / Chesterville, ON  \n",
    "1;0;Allison, Miss. Helen Loraine;female;2;1;2;113781;151,5500;C22 C26;S;;;Montreal, PQ / Chesterville, ON  \n",
    "1;0;Allison, Mr. Hudson Joshua Creighton;male;30;1;2;113781;151,5500;C22 C26;S;;135;Montreal, PQ / Chesterville, ON  \n",
    "1;0;Allison, Mrs. Hudson J C (Bessie Waldo Daniels);female;25;1;2;113781;151,5500;C22 C26;S;;;Montreal, PQ / Chesterville, ON  \n",
    "1;1;Anderson, Mr. Harry;male;48;0;0;19952;26,5500;E12;S;3;;New York, NY  \n",
    "1;1;Andrews, Miss. Kornelia Theodosia;female;63;1;0;13502;77,9583;D7;S;10;;Hudson, NY  \n",
    "1;0;Andrews, Mr. Thomas Jr;male;39;0;0;112050;0,0000;A36;S;;;Belfast, NI  "
   ]
  },
  {
   "cell_type": "markdown",
   "metadata": {
    "slideshow": {
     "slide_type": "slide"
    }
   },
   "source": [
    "### Chargement du dataset"
   ]
  },
  {
   "cell_type": "code",
   "execution_count": 15,
   "metadata": {},
   "outputs": [
    {
     "data": {
      "text/html": [
       "<div>\n",
       "<style scoped>\n",
       "    .dataframe tbody tr th:only-of-type {\n",
       "        vertical-align: middle;\n",
       "    }\n",
       "\n",
       "    .dataframe tbody tr th {\n",
       "        vertical-align: top;\n",
       "    }\n",
       "\n",
       "    .dataframe thead th {\n",
       "        text-align: right;\n",
       "    }\n",
       "</style>\n",
       "<table border=\"1\" class=\"dataframe\">\n",
       "  <thead>\n",
       "    <tr style=\"text-align: right;\">\n",
       "      <th></th>\n",
       "      <th>pclass</th>\n",
       "      <th>survived</th>\n",
       "      <th>name</th>\n",
       "      <th>sex</th>\n",
       "      <th>age</th>\n",
       "      <th>sibsp</th>\n",
       "      <th>parch</th>\n",
       "      <th>ticket</th>\n",
       "      <th>fare</th>\n",
       "      <th>cabin</th>\n",
       "      <th>embarked</th>\n",
       "      <th>boat</th>\n",
       "      <th>home.dest</th>\n",
       "    </tr>\n",
       "  </thead>\n",
       "  <tbody>\n",
       "    <tr>\n",
       "      <th>0</th>\n",
       "      <td>1.0</td>\n",
       "      <td>1.0</td>\n",
       "      <td>Allen, Miss. Elisabeth Walton</td>\n",
       "      <td>female</td>\n",
       "      <td>29</td>\n",
       "      <td>0.0</td>\n",
       "      <td>0.0</td>\n",
       "      <td>24160</td>\n",
       "      <td>211,3375</td>\n",
       "      <td>B5</td>\n",
       "      <td>S</td>\n",
       "      <td>2</td>\n",
       "      <td>St Louis, MO</td>\n",
       "    </tr>\n",
       "    <tr>\n",
       "      <th>1</th>\n",
       "      <td>1.0</td>\n",
       "      <td>1.0</td>\n",
       "      <td>Allison, Master. Hudson Trevor</td>\n",
       "      <td>male</td>\n",
       "      <td>0,9167</td>\n",
       "      <td>1.0</td>\n",
       "      <td>2.0</td>\n",
       "      <td>113781</td>\n",
       "      <td>151,5500</td>\n",
       "      <td>C22 C26</td>\n",
       "      <td>S</td>\n",
       "      <td>11</td>\n",
       "      <td>Montreal, PQ / Chesterville, ON</td>\n",
       "    </tr>\n",
       "    <tr>\n",
       "      <th>2</th>\n",
       "      <td>1.0</td>\n",
       "      <td>0.0</td>\n",
       "      <td>Allison, Miss. Helen Loraine</td>\n",
       "      <td>female</td>\n",
       "      <td>2</td>\n",
       "      <td>1.0</td>\n",
       "      <td>2.0</td>\n",
       "      <td>113781</td>\n",
       "      <td>151,5500</td>\n",
       "      <td>C22 C26</td>\n",
       "      <td>S</td>\n",
       "      <td>NaN</td>\n",
       "      <td>Montreal, PQ / Chesterville, ON</td>\n",
       "    </tr>\n",
       "    <tr>\n",
       "      <th>3</th>\n",
       "      <td>1.0</td>\n",
       "      <td>0.0</td>\n",
       "      <td>Allison, Mr. Hudson Joshua Creighton</td>\n",
       "      <td>male</td>\n",
       "      <td>30</td>\n",
       "      <td>1.0</td>\n",
       "      <td>2.0</td>\n",
       "      <td>113781</td>\n",
       "      <td>151,5500</td>\n",
       "      <td>C22 C26</td>\n",
       "      <td>S</td>\n",
       "      <td>NaN</td>\n",
       "      <td>Montreal, PQ / Chesterville, ON</td>\n",
       "    </tr>\n",
       "    <tr>\n",
       "      <th>4</th>\n",
       "      <td>1.0</td>\n",
       "      <td>0.0</td>\n",
       "      <td>Allison, Mrs. Hudson J C (Bessie Waldo Daniels)</td>\n",
       "      <td>female</td>\n",
       "      <td>25</td>\n",
       "      <td>1.0</td>\n",
       "      <td>2.0</td>\n",
       "      <td>113781</td>\n",
       "      <td>151,5500</td>\n",
       "      <td>C22 C26</td>\n",
       "      <td>S</td>\n",
       "      <td>NaN</td>\n",
       "      <td>Montreal, PQ / Chesterville, ON</td>\n",
       "    </tr>\n",
       "  </tbody>\n",
       "</table>\n",
       "</div>"
      ],
      "text/plain": [
       "   pclass  survived                                             name     sex  \\\n",
       "0     1.0       1.0                    Allen, Miss. Elisabeth Walton  female   \n",
       "1     1.0       1.0                   Allison, Master. Hudson Trevor    male   \n",
       "2     1.0       0.0                     Allison, Miss. Helen Loraine  female   \n",
       "3     1.0       0.0             Allison, Mr. Hudson Joshua Creighton    male   \n",
       "4     1.0       0.0  Allison, Mrs. Hudson J C (Bessie Waldo Daniels)  female   \n",
       "\n",
       "      age  sibsp  parch  ticket      fare    cabin embarked boat  \\\n",
       "0      29    0.0    0.0   24160  211,3375       B5        S    2   \n",
       "1  0,9167    1.0    2.0  113781  151,5500  C22 C26        S   11   \n",
       "2       2    1.0    2.0  113781  151,5500  C22 C26        S  NaN   \n",
       "3      30    1.0    2.0  113781  151,5500  C22 C26        S  NaN   \n",
       "4      25    1.0    2.0  113781  151,5500  C22 C26        S  NaN   \n",
       "\n",
       "                         home.dest  \n",
       "0                     St Louis, MO  \n",
       "1  Montreal, PQ / Chesterville, ON  \n",
       "2  Montreal, PQ / Chesterville, ON  \n",
       "3  Montreal, PQ / Chesterville, ON  \n",
       "4  Montreal, PQ / Chesterville, ON  "
      ]
     },
     "execution_count": 15,
     "metadata": {},
     "output_type": "execute_result"
    }
   ],
   "source": [
    "titanic_dataset = pandas.read_csv(\"data/titanic.csv\", delimiter = \";\")\n",
    "del titanic_dataset[\"body\"]\n",
    "titanic_dataset.head()"
   ]
  },
  {
   "cell_type": "code",
   "execution_count": 16,
   "metadata": {
    "slideshow": {
     "slide_type": "slide"
    }
   },
   "outputs": [],
   "source": [
    "# On sépare la colonne à prédire du reste des données\n",
    "titanic_dataset = titanic_dataset.dropna(subset=['survived'])\n",
    "\n",
    "survived = titanic_dataset[\"survived\"]\n",
    "del titanic_dataset[\"survived\"]"
   ]
  },
  {
   "cell_type": "code",
   "execution_count": 17,
   "metadata": {
    "slideshow": {
     "slide_type": "fragment"
    }
   },
   "outputs": [],
   "source": [
    "# Définition d'un modèle linéaire\n",
    "sgd = linear_model.SGDClassifier(max_iter = 10000)\n",
    "# SGD = Descente de Gradient Stochastique - c'est une méthode d'optimisation"
   ]
  },
  {
   "cell_type": "code",
   "execution_count": 18,
   "metadata": {
    "slideshow": {
     "slide_type": "fragment"
    }
   },
   "outputs": [
    {
     "name": "stdout",
     "output_type": "stream",
     "text": [
      "Traceback (most recent call last):\n",
      "  File \"<ipython-input-18-dee1661fe682>\", line 3, in <module>\n",
      "    sgd.fit(titanic_dataset, survived)\n",
      "  File \"/Users/rallesiardo/.local/share/virtualenvs/base/lib/python3.6/site-packages/sklearn/linear_model/stochastic_gradient.py\", line 743, in fit\n",
      "    sample_weight=sample_weight)\n",
      "  File \"/Users/rallesiardo/.local/share/virtualenvs/base/lib/python3.6/site-packages/sklearn/linear_model/stochastic_gradient.py\", line 570, in _fit\n",
      "    accept_large_sparse=False)\n",
      "  File \"/Users/rallesiardo/.local/share/virtualenvs/base/lib/python3.6/site-packages/sklearn/utils/validation.py\", line 756, in check_X_y\n",
      "    estimator=estimator)\n",
      "  File \"/Users/rallesiardo/.local/share/virtualenvs/base/lib/python3.6/site-packages/sklearn/utils/validation.py\", line 527, in check_array\n",
      "    array = np.asarray(array, dtype=dtype, order=order)\n",
      "  File \"/Users/rallesiardo/.local/share/virtualenvs/base/lib/python3.6/site-packages/numpy/core/numeric.py\", line 538, in asarray\n",
      "    return array(a, dtype, copy=False, order=order)\n",
      "ValueError: could not convert string to float: 'S'\n"
     ]
    }
   ],
   "source": [
    "import traceback, sys\n",
    "try:\n",
    "    sgd.fit(titanic_dataset, survived)\n",
    "except Exception:\n",
    "    traceback.print_exc(file=sys.stdout)\n",
    "\n",
    "# En erreur car les modèles ne prennent en entrée que des réels."
   ]
  },
  {
   "cell_type": "markdown",
   "metadata": {
    "slideshow": {
     "slide_type": "slide"
    }
   },
   "source": [
    "### Pre-traitement des données"
   ]
  },
  {
   "cell_type": "code",
   "execution_count": 19,
   "metadata": {},
   "outputs": [
    {
     "data": {
      "text/html": [
       "<div>\n",
       "<style scoped>\n",
       "    .dataframe tbody tr th:only-of-type {\n",
       "        vertical-align: middle;\n",
       "    }\n",
       "\n",
       "    .dataframe tbody tr th {\n",
       "        vertical-align: top;\n",
       "    }\n",
       "\n",
       "    .dataframe thead th {\n",
       "        text-align: right;\n",
       "    }\n",
       "</style>\n",
       "<table border=\"1\" class=\"dataframe\">\n",
       "  <thead>\n",
       "    <tr style=\"text-align: right;\">\n",
       "      <th></th>\n",
       "      <th>0</th>\n",
       "      <th>1</th>\n",
       "      <th>2</th>\n",
       "      <th>3</th>\n",
       "      <th>4</th>\n",
       "    </tr>\n",
       "  </thead>\n",
       "  <tbody>\n",
       "    <tr>\n",
       "      <th>pclass</th>\n",
       "      <td>1</td>\n",
       "      <td>1</td>\n",
       "      <td>1</td>\n",
       "      <td>1</td>\n",
       "      <td>1</td>\n",
       "    </tr>\n",
       "    <tr>\n",
       "      <th>name</th>\n",
       "      <td>Allen, Miss. Elisabeth Walton</td>\n",
       "      <td>Allison, Master. Hudson Trevor</td>\n",
       "      <td>Allison, Miss. Helen Loraine</td>\n",
       "      <td>Allison, Mr. Hudson Joshua Creighton</td>\n",
       "      <td>Allison, Mrs. Hudson J C (Bessie Waldo Daniels)</td>\n",
       "    </tr>\n",
       "    <tr>\n",
       "      <th>sex</th>\n",
       "      <td>female</td>\n",
       "      <td>male</td>\n",
       "      <td>female</td>\n",
       "      <td>male</td>\n",
       "      <td>female</td>\n",
       "    </tr>\n",
       "    <tr>\n",
       "      <th>age</th>\n",
       "      <td>29</td>\n",
       "      <td>0,9167</td>\n",
       "      <td>2</td>\n",
       "      <td>30</td>\n",
       "      <td>25</td>\n",
       "    </tr>\n",
       "    <tr>\n",
       "      <th>sibsp</th>\n",
       "      <td>0</td>\n",
       "      <td>1</td>\n",
       "      <td>1</td>\n",
       "      <td>1</td>\n",
       "      <td>1</td>\n",
       "    </tr>\n",
       "    <tr>\n",
       "      <th>parch</th>\n",
       "      <td>0</td>\n",
       "      <td>2</td>\n",
       "      <td>2</td>\n",
       "      <td>2</td>\n",
       "      <td>2</td>\n",
       "    </tr>\n",
       "    <tr>\n",
       "      <th>ticket</th>\n",
       "      <td>24160</td>\n",
       "      <td>113781</td>\n",
       "      <td>113781</td>\n",
       "      <td>113781</td>\n",
       "      <td>113781</td>\n",
       "    </tr>\n",
       "    <tr>\n",
       "      <th>fare</th>\n",
       "      <td>211,3375</td>\n",
       "      <td>151,5500</td>\n",
       "      <td>151,5500</td>\n",
       "      <td>151,5500</td>\n",
       "      <td>151,5500</td>\n",
       "    </tr>\n",
       "    <tr>\n",
       "      <th>cabin</th>\n",
       "      <td>B5</td>\n",
       "      <td>C22 C26</td>\n",
       "      <td>C22 C26</td>\n",
       "      <td>C22 C26</td>\n",
       "      <td>C22 C26</td>\n",
       "    </tr>\n",
       "    <tr>\n",
       "      <th>embarked</th>\n",
       "      <td>S</td>\n",
       "      <td>S</td>\n",
       "      <td>S</td>\n",
       "      <td>S</td>\n",
       "      <td>S</td>\n",
       "    </tr>\n",
       "    <tr>\n",
       "      <th>boat</th>\n",
       "      <td>2</td>\n",
       "      <td>11</td>\n",
       "      <td>NaN</td>\n",
       "      <td>NaN</td>\n",
       "      <td>NaN</td>\n",
       "    </tr>\n",
       "    <tr>\n",
       "      <th>home.dest</th>\n",
       "      <td>St Louis, MO</td>\n",
       "      <td>Montreal, PQ / Chesterville, ON</td>\n",
       "      <td>Montreal, PQ / Chesterville, ON</td>\n",
       "      <td>Montreal, PQ / Chesterville, ON</td>\n",
       "      <td>Montreal, PQ / Chesterville, ON</td>\n",
       "    </tr>\n",
       "  </tbody>\n",
       "</table>\n",
       "</div>"
      ],
      "text/plain": [
       "                                       0                                1  \\\n",
       "pclass                                 1                                1   \n",
       "name       Allen, Miss. Elisabeth Walton   Allison, Master. Hudson Trevor   \n",
       "sex                               female                             male   \n",
       "age                                   29                           0,9167   \n",
       "sibsp                                  0                                1   \n",
       "parch                                  0                                2   \n",
       "ticket                             24160                           113781   \n",
       "fare                            211,3375                         151,5500   \n",
       "cabin                                 B5                          C22 C26   \n",
       "embarked                               S                                S   \n",
       "boat                                   2                               11   \n",
       "home.dest                   St Louis, MO  Montreal, PQ / Chesterville, ON   \n",
       "\n",
       "                                         2  \\\n",
       "pclass                                   1   \n",
       "name          Allison, Miss. Helen Loraine   \n",
       "sex                                 female   \n",
       "age                                      2   \n",
       "sibsp                                    1   \n",
       "parch                                    2   \n",
       "ticket                              113781   \n",
       "fare                              151,5500   \n",
       "cabin                              C22 C26   \n",
       "embarked                                 S   \n",
       "boat                                   NaN   \n",
       "home.dest  Montreal, PQ / Chesterville, ON   \n",
       "\n",
       "                                              3  \\\n",
       "pclass                                        1   \n",
       "name       Allison, Mr. Hudson Joshua Creighton   \n",
       "sex                                        male   \n",
       "age                                          30   \n",
       "sibsp                                         1   \n",
       "parch                                         2   \n",
       "ticket                                   113781   \n",
       "fare                                   151,5500   \n",
       "cabin                                   C22 C26   \n",
       "embarked                                      S   \n",
       "boat                                        NaN   \n",
       "home.dest       Montreal, PQ / Chesterville, ON   \n",
       "\n",
       "                                                         4  \n",
       "pclass                                                   1  \n",
       "name       Allison, Mrs. Hudson J C (Bessie Waldo Daniels)  \n",
       "sex                                                 female  \n",
       "age                                                     25  \n",
       "sibsp                                                    1  \n",
       "parch                                                    2  \n",
       "ticket                                              113781  \n",
       "fare                                              151,5500  \n",
       "cabin                                              C22 C26  \n",
       "embarked                                                 S  \n",
       "boat                                                   NaN  \n",
       "home.dest                  Montreal, PQ / Chesterville, ON  "
      ]
     },
     "execution_count": 19,
     "metadata": {},
     "output_type": "execute_result"
    }
   ],
   "source": [
    "titanic_dataset.head().transpose()"
   ]
  },
  {
   "cell_type": "markdown",
   "metadata": {
    "slideshow": {
     "slide_type": "slide"
    }
   },
   "source": [
    "On sépare certaines colonnes complexes des autres pour les traiter ultérieurement"
   ]
  },
  {
   "cell_type": "code",
   "execution_count": 20,
   "metadata": {
    "slideshow": {
     "slide_type": "-"
    }
   },
   "outputs": [],
   "source": [
    "name = titanic_dataset[\"name\"]\n",
    "cabin = titanic_dataset[\"cabin\"]\n",
    "home_dest = titanic_dataset[\"home.dest\"]\n",
    "ticket = titanic_dataset[\"ticket\"]"
   ]
  },
  {
   "cell_type": "markdown",
   "metadata": {
    "slideshow": {
     "slide_type": "slide"
    }
   },
   "source": [
    "On encode les variables catégorielles via le **codage disjonctif complet** (one-hot encoding en anglais)"
   ]
  },
  {
   "cell_type": "code",
   "execution_count": 21,
   "metadata": {},
   "outputs": [
    {
     "data": {
      "text/html": [
       "<div>\n",
       "<style scoped>\n",
       "    .dataframe tbody tr th:only-of-type {\n",
       "        vertical-align: middle;\n",
       "    }\n",
       "\n",
       "    .dataframe tbody tr th {\n",
       "        vertical-align: top;\n",
       "    }\n",
       "\n",
       "    .dataframe thead th {\n",
       "        text-align: right;\n",
       "    }\n",
       "</style>\n",
       "<table border=\"1\" class=\"dataframe\">\n",
       "  <thead>\n",
       "    <tr style=\"text-align: right;\">\n",
       "      <th></th>\n",
       "      <th>female</th>\n",
       "      <th>male</th>\n",
       "    </tr>\n",
       "  </thead>\n",
       "  <tbody>\n",
       "    <tr>\n",
       "      <th>0</th>\n",
       "      <td>1</td>\n",
       "      <td>0</td>\n",
       "    </tr>\n",
       "    <tr>\n",
       "      <th>1</th>\n",
       "      <td>0</td>\n",
       "      <td>1</td>\n",
       "    </tr>\n",
       "    <tr>\n",
       "      <th>2</th>\n",
       "      <td>1</td>\n",
       "      <td>0</td>\n",
       "    </tr>\n",
       "    <tr>\n",
       "      <th>3</th>\n",
       "      <td>0</td>\n",
       "      <td>1</td>\n",
       "    </tr>\n",
       "    <tr>\n",
       "      <th>4</th>\n",
       "      <td>1</td>\n",
       "      <td>0</td>\n",
       "    </tr>\n",
       "  </tbody>\n",
       "</table>\n",
       "</div>"
      ],
      "text/plain": [
       "   female  male\n",
       "0       1     0\n",
       "1       0     1\n",
       "2       1     0\n",
       "3       0     1\n",
       "4       1     0"
      ]
     },
     "execution_count": 21,
     "metadata": {},
     "output_type": "execute_result"
    }
   ],
   "source": [
    "sex = pandas.get_dummies(titanic_dataset[\"sex\"])\n",
    "\n",
    "sex.head()"
   ]
  },
  {
   "cell_type": "code",
   "execution_count": 22,
   "metadata": {
    "slideshow": {
     "slide_type": "slide"
    }
   },
   "outputs": [
    {
     "data": {
      "text/html": [
       "<div>\n",
       "<style scoped>\n",
       "    .dataframe tbody tr th:only-of-type {\n",
       "        vertical-align: middle;\n",
       "    }\n",
       "\n",
       "    .dataframe tbody tr th {\n",
       "        vertical-align: top;\n",
       "    }\n",
       "\n",
       "    .dataframe thead th {\n",
       "        text-align: right;\n",
       "    }\n",
       "</style>\n",
       "<table border=\"1\" class=\"dataframe\">\n",
       "  <thead>\n",
       "    <tr style=\"text-align: right;\">\n",
       "      <th></th>\n",
       "      <th>sex</th>\n",
       "      <th>female</th>\n",
       "      <th>male</th>\n",
       "    </tr>\n",
       "  </thead>\n",
       "  <tbody>\n",
       "    <tr>\n",
       "      <th>0</th>\n",
       "      <td>female</td>\n",
       "      <td>1</td>\n",
       "      <td>0</td>\n",
       "    </tr>\n",
       "    <tr>\n",
       "      <th>1</th>\n",
       "      <td>male</td>\n",
       "      <td>0</td>\n",
       "      <td>1</td>\n",
       "    </tr>\n",
       "    <tr>\n",
       "      <th>2</th>\n",
       "      <td>female</td>\n",
       "      <td>1</td>\n",
       "      <td>0</td>\n",
       "    </tr>\n",
       "    <tr>\n",
       "      <th>3</th>\n",
       "      <td>male</td>\n",
       "      <td>0</td>\n",
       "      <td>1</td>\n",
       "    </tr>\n",
       "    <tr>\n",
       "      <th>4</th>\n",
       "      <td>female</td>\n",
       "      <td>1</td>\n",
       "      <td>0</td>\n",
       "    </tr>\n",
       "  </tbody>\n",
       "</table>\n",
       "</div>"
      ],
      "text/plain": [
       "      sex  female  male\n",
       "0  female       1     0\n",
       "1    male       0     1\n",
       "2  female       1     0\n",
       "3    male       0     1\n",
       "4  female       1     0"
      ]
     },
     "execution_count": 22,
     "metadata": {},
     "output_type": "execute_result"
    }
   ],
   "source": [
    "titanic_dataset = pandas.concat([titanic_dataset,sex], axis = 1 )\n",
    "titanic_dataset[[\"sex\",\"female\",\"male\"]].head()"
   ]
  },
  {
   "cell_type": "markdown",
   "metadata": {
    "slideshow": {
     "slide_type": "slide"
    }
   },
   "source": [
    "On formate correctement certaines variables numériques et on retire les variables textuelles"
   ]
  },
  {
   "cell_type": "code",
   "execution_count": 23,
   "metadata": {
    "slideshow": {
     "slide_type": "-"
    }
   },
   "outputs": [],
   "source": [
    "titanic_dataset[\"age\"] = titanic_dataset[\"age\"].replace(\",\",\".\", regex=True)\n",
    "titanic_dataset[\"fare\"] = titanic_dataset[\"fare\"].replace(\",\",\".\", regex=True)"
   ]
  },
  {
   "cell_type": "code",
   "execution_count": 24,
   "metadata": {},
   "outputs": [],
   "source": [
    "del titanic_dataset[\"ticket\"]\n",
    "del titanic_dataset[\"name\"]\n",
    "del titanic_dataset[\"cabin\"]\n",
    "del titanic_dataset[\"sex\"]\n",
    "del titanic_dataset[\"home.dest\"]\n",
    "del titanic_dataset[\"embarked\"]\n",
    "del titanic_dataset[\"boat\"]"
   ]
  },
  {
   "cell_type": "markdown",
   "metadata": {
    "slideshow": {
     "slide_type": "slide"
    }
   },
   "source": [
    "On remplace les cellules vides par les moyennes de leurs colonnes respectives."
   ]
  },
  {
   "cell_type": "code",
   "execution_count": 25,
   "metadata": {},
   "outputs": [],
   "source": [
    "for column in titanic_dataset.columns:\n",
    "    titanic_dataset[column] = titanic_dataset[column]\\\n",
    "    .astype(np.float).fillna(titanic_dataset[column].astype(np.float).mean())"
   ]
  },
  {
   "cell_type": "markdown",
   "metadata": {
    "slideshow": {
     "slide_type": "slide"
    }
   },
   "source": [
    "### Création d'un modèle linéaire"
   ]
  },
  {
   "cell_type": "code",
   "execution_count": 26,
   "metadata": {},
   "outputs": [],
   "source": [
    "# Préparation de la validation croisée\n",
    "x_train, x_test, y_train, y_test = train_test_split(titanic_dataset,survived, test_size= 0.5, random_state = 42)"
   ]
  },
  {
   "cell_type": "code",
   "execution_count": 27,
   "metadata": {},
   "outputs": [],
   "source": [
    "# Définition d'un modèle linéaire\n",
    "sgd = linear_model.SGDClassifier(max_iter = 50000)\n",
    "\n",
    "# Optimisation des paramètres du modèle\n",
    "sgd = sgd.fit(x_train, y_train)"
   ]
  },
  {
   "cell_type": "code",
   "execution_count": 28,
   "metadata": {
    "slideshow": {
     "slide_type": "fragment"
    }
   },
   "outputs": [
    {
     "data": {
      "text/plain": [
       "0.7110091743119266"
      ]
     },
     "execution_count": 28,
     "metadata": {},
     "output_type": "execute_result"
    }
   ],
   "source": [
    "accuracy_train = sklearn.metrics.accuracy_score(y_train, sgd.predict(x_train))\n",
    "accuracy_train"
   ]
  },
  {
   "cell_type": "code",
   "execution_count": 29,
   "metadata": {
    "slideshow": {
     "slide_type": "fragment"
    }
   },
   "outputs": [
    {
     "data": {
      "text/plain": [
       "0.683969465648855"
      ]
     },
     "execution_count": 29,
     "metadata": {},
     "output_type": "execute_result"
    }
   ],
   "source": [
    "accuracy_test = sklearn.metrics.accuracy_score(y_test, sgd.predict(x_test))\n",
    "accuracy_test"
   ]
  },
  {
   "cell_type": "markdown",
   "metadata": {
    "slideshow": {
     "slide_type": "slide"
    }
   },
   "source": [
    "# On sauvegarde les différents scores"
   ]
  },
  {
   "cell_type": "code",
   "execution_count": 30,
   "metadata": {
    "slideshow": {
     "slide_type": "-"
    }
   },
   "outputs": [
    {
     "data": {
      "text/html": [
       "<div>\n",
       "<style scoped>\n",
       "    .dataframe tbody tr th:only-of-type {\n",
       "        vertical-align: middle;\n",
       "    }\n",
       "\n",
       "    .dataframe tbody tr th {\n",
       "        vertical-align: top;\n",
       "    }\n",
       "\n",
       "    .dataframe thead th {\n",
       "        text-align: right;\n",
       "    }\n",
       "</style>\n",
       "<table border=\"1\" class=\"dataframe\">\n",
       "  <thead>\n",
       "    <tr style=\"text-align: right;\">\n",
       "      <th></th>\n",
       "      <th>Modèle</th>\n",
       "      <th>Train</th>\n",
       "      <th>Test</th>\n",
       "      <th>Delta</th>\n",
       "    </tr>\n",
       "  </thead>\n",
       "  <tbody>\n",
       "    <tr>\n",
       "      <th>0</th>\n",
       "      <td>Linéaire</td>\n",
       "      <td>0.711009</td>\n",
       "      <td>0.683969</td>\n",
       "      <td>0.02704</td>\n",
       "    </tr>\n",
       "  </tbody>\n",
       "</table>\n",
       "</div>"
      ],
      "text/plain": [
       "     Modèle     Train      Test    Delta\n",
       "0  Linéaire  0.711009  0.683969  0.02704"
      ]
     },
     "execution_count": 30,
     "metadata": {},
     "output_type": "execute_result"
    }
   ],
   "source": [
    "resultats_exp = pandas.DataFrame({\"Modèle\" : [], \"Train\" : [], \"Test\" : [], \"Delta\" : []})\n",
    "import math\n",
    "\n",
    "def add_score(nom, acc_train, acc_test):\n",
    "    resultats_exp.loc[len(resultats_exp)] = [nom, acc_train, acc_test, math.fabs(acc_train - acc_test)]\n",
    "    return resultats_exp\n",
    "\n",
    "add_score(\"Linéaire\",accuracy_train,accuracy_test)"
   ]
  },
  {
   "cell_type": "markdown",
   "metadata": {
    "slideshow": {
     "slide_type": "slide"
    }
   },
   "source": [
    "### Les arbres de décisions\n",
    "<img src=\"ressources/tree.png\" alt=\"randomforest\" width=\"350\"/>"
   ]
  },
  {
   "cell_type": "markdown",
   "metadata": {
    "slideshow": {
     "slide_type": "slide"
    }
   },
   "source": [
    "### Les Forêts Aléatoires:\n",
    "<img src=\"ressources/randomforest.png\" alt=\"randomforest\" width=\"500\"/>"
   ]
  },
  {
   "cell_type": "markdown",
   "metadata": {
    "slideshow": {
     "slide_type": "slide"
    }
   },
   "source": [
    "### Création d'une Forêt Aléatoire"
   ]
  },
  {
   "cell_type": "code",
   "execution_count": 31,
   "metadata": {},
   "outputs": [],
   "source": [
    "from sklearn.ensemble import RandomForestClassifier\n",
    "\n",
    "clf = RandomForestClassifier(max_depth=8, n_estimators = 20)\n",
    "clf = clf.fit(x_train, y_train)"
   ]
  },
  {
   "cell_type": "code",
   "execution_count": 32,
   "metadata": {
    "slideshow": {
     "slide_type": "fragment"
    }
   },
   "outputs": [
    {
     "data": {
      "text/plain": [
       "0.8960244648318043"
      ]
     },
     "execution_count": 32,
     "metadata": {},
     "output_type": "execute_result"
    }
   ],
   "source": [
    "accuracy_train = sklearn.metrics.accuracy_score(y_train, clf.predict(x_train))\n",
    "accuracy_train"
   ]
  },
  {
   "cell_type": "code",
   "execution_count": 33,
   "metadata": {
    "slideshow": {
     "slide_type": "fragment"
    }
   },
   "outputs": [
    {
     "data": {
      "text/plain": [
       "0.7984732824427481"
      ]
     },
     "execution_count": 33,
     "metadata": {},
     "output_type": "execute_result"
    }
   ],
   "source": [
    "accuracy_test = sklearn.metrics.accuracy_score(y_test, clf.predict(x_test))\n",
    "accuracy_test"
   ]
  },
  {
   "cell_type": "code",
   "execution_count": 34,
   "metadata": {
    "slideshow": {
     "slide_type": "slide"
    }
   },
   "outputs": [
    {
     "data": {
      "text/html": [
       "<div>\n",
       "<style scoped>\n",
       "    .dataframe tbody tr th:only-of-type {\n",
       "        vertical-align: middle;\n",
       "    }\n",
       "\n",
       "    .dataframe tbody tr th {\n",
       "        vertical-align: top;\n",
       "    }\n",
       "\n",
       "    .dataframe thead th {\n",
       "        text-align: right;\n",
       "    }\n",
       "</style>\n",
       "<table border=\"1\" class=\"dataframe\">\n",
       "  <thead>\n",
       "    <tr style=\"text-align: right;\">\n",
       "      <th></th>\n",
       "      <th>Modèle</th>\n",
       "      <th>Train</th>\n",
       "      <th>Test</th>\n",
       "      <th>Delta</th>\n",
       "    </tr>\n",
       "  </thead>\n",
       "  <tbody>\n",
       "    <tr>\n",
       "      <th>1</th>\n",
       "      <td>Forêt Aléatoire</td>\n",
       "      <td>0.896024</td>\n",
       "      <td>0.798473</td>\n",
       "      <td>0.097551</td>\n",
       "    </tr>\n",
       "    <tr>\n",
       "      <th>0</th>\n",
       "      <td>Linéaire</td>\n",
       "      <td>0.711009</td>\n",
       "      <td>0.683969</td>\n",
       "      <td>0.027040</td>\n",
       "    </tr>\n",
       "  </tbody>\n",
       "</table>\n",
       "</div>"
      ],
      "text/plain": [
       "            Modèle     Train      Test     Delta\n",
       "1  Forêt Aléatoire  0.896024  0.798473  0.097551\n",
       "0         Linéaire  0.711009  0.683969  0.027040"
      ]
     },
     "execution_count": 34,
     "metadata": {},
     "output_type": "execute_result"
    }
   ],
   "source": [
    "add_score(\"Forêt Aléatoire\",accuracy_train,accuracy_test).sort_values(by = \"Test\", ascending = False)"
   ]
  },
  {
   "cell_type": "markdown",
   "metadata": {
    "slideshow": {
     "slide_type": "slide"
    }
   },
   "source": [
    "### Réduction du sur-apprentissage de la Forêt Aléatoire\n",
    "\n",
    "* On augmente le nombre d'arbres de 20 à 100 (augmentation de la robustesse)\n",
    "* Réduction de la profondeur des arbres (augmentation du biais)"
   ]
  },
  {
   "cell_type": "code",
   "execution_count": 35,
   "metadata": {
    "slideshow": {
     "slide_type": "-"
    }
   },
   "outputs": [],
   "source": [
    "clf = RandomForestClassifier(max_depth=6, n_estimators = 100)\n",
    "clf = clf.fit(x_train, y_train)"
   ]
  },
  {
   "cell_type": "code",
   "execution_count": 36,
   "metadata": {
    "slideshow": {
     "slide_type": "fragment"
    }
   },
   "outputs": [
    {
     "data": {
      "text/plain": [
       "0.8623853211009175"
      ]
     },
     "execution_count": 36,
     "metadata": {},
     "output_type": "execute_result"
    }
   ],
   "source": [
    "accuracy_train = sklearn.metrics.accuracy_score(y_train, clf.predict(x_train))\n",
    "accuracy_train"
   ]
  },
  {
   "cell_type": "code",
   "execution_count": 37,
   "metadata": {
    "slideshow": {
     "slide_type": "fragment"
    }
   },
   "outputs": [
    {
     "data": {
      "text/plain": [
       "0.7984732824427481"
      ]
     },
     "execution_count": 37,
     "metadata": {},
     "output_type": "execute_result"
    }
   ],
   "source": [
    "accuracy_test = sklearn.metrics.accuracy_score(y_test, clf.predict(x_test))\n",
    "accuracy_test"
   ]
  },
  {
   "cell_type": "code",
   "execution_count": 38,
   "metadata": {
    "slideshow": {
     "slide_type": "slide"
    }
   },
   "outputs": [
    {
     "data": {
      "text/html": [
       "<div>\n",
       "<style scoped>\n",
       "    .dataframe tbody tr th:only-of-type {\n",
       "        vertical-align: middle;\n",
       "    }\n",
       "\n",
       "    .dataframe tbody tr th {\n",
       "        vertical-align: top;\n",
       "    }\n",
       "\n",
       "    .dataframe thead th {\n",
       "        text-align: right;\n",
       "    }\n",
       "</style>\n",
       "<table border=\"1\" class=\"dataframe\">\n",
       "  <thead>\n",
       "    <tr style=\"text-align: right;\">\n",
       "      <th></th>\n",
       "      <th>Modèle</th>\n",
       "      <th>Train</th>\n",
       "      <th>Test</th>\n",
       "      <th>Delta</th>\n",
       "    </tr>\n",
       "  </thead>\n",
       "  <tbody>\n",
       "    <tr>\n",
       "      <th>1</th>\n",
       "      <td>Forêt Aléatoire</td>\n",
       "      <td>0.896024</td>\n",
       "      <td>0.798473</td>\n",
       "      <td>0.097551</td>\n",
       "    </tr>\n",
       "    <tr>\n",
       "      <th>2</th>\n",
       "      <td>Forêt Aléatoire 2</td>\n",
       "      <td>0.862385</td>\n",
       "      <td>0.798473</td>\n",
       "      <td>0.063912</td>\n",
       "    </tr>\n",
       "    <tr>\n",
       "      <th>0</th>\n",
       "      <td>Linéaire</td>\n",
       "      <td>0.711009</td>\n",
       "      <td>0.683969</td>\n",
       "      <td>0.027040</td>\n",
       "    </tr>\n",
       "  </tbody>\n",
       "</table>\n",
       "</div>"
      ],
      "text/plain": [
       "              Modèle     Train      Test     Delta\n",
       "1    Forêt Aléatoire  0.896024  0.798473  0.097551\n",
       "2  Forêt Aléatoire 2  0.862385  0.798473  0.063912\n",
       "0           Linéaire  0.711009  0.683969  0.027040"
      ]
     },
     "execution_count": 38,
     "metadata": {},
     "output_type": "execute_result"
    }
   ],
   "source": [
    "add_score(\"Forêt Aléatoire 2\",accuracy_train,accuracy_test).sort_values(by = \"Test\", ascending = False)"
   ]
  },
  {
   "cell_type": "markdown",
   "metadata": {
    "slideshow": {
     "slide_type": "slide"
    }
   },
   "source": [
    "### Traitements avancés sur les variables."
   ]
  },
  {
   "cell_type": "code",
   "execution_count": 39,
   "metadata": {},
   "outputs": [],
   "source": [
    "titanic_dataset[\"child\"] = titanic_dataset[\"age\"] < 12\n",
    "titanic_dataset[\"family\"] = titanic_dataset[\"sibsp\"] + titanic_dataset[\"parch\"]"
   ]
  },
  {
   "cell_type": "code",
   "execution_count": 40,
   "metadata": {},
   "outputs": [
    {
     "data": {
      "text/html": [
       "<div>\n",
       "<style scoped>\n",
       "    .dataframe tbody tr th:only-of-type {\n",
       "        vertical-align: middle;\n",
       "    }\n",
       "\n",
       "    .dataframe tbody tr th {\n",
       "        vertical-align: top;\n",
       "    }\n",
       "\n",
       "    .dataframe thead th {\n",
       "        text-align: right;\n",
       "    }\n",
       "</style>\n",
       "<table border=\"1\" class=\"dataframe\">\n",
       "  <thead>\n",
       "    <tr style=\"text-align: right;\">\n",
       "      <th></th>\n",
       "      <th>child</th>\n",
       "      <th>age</th>\n",
       "    </tr>\n",
       "  </thead>\n",
       "  <tbody>\n",
       "    <tr>\n",
       "      <th>0</th>\n",
       "      <td>False</td>\n",
       "      <td>29.0000</td>\n",
       "    </tr>\n",
       "    <tr>\n",
       "      <th>1</th>\n",
       "      <td>True</td>\n",
       "      <td>0.9167</td>\n",
       "    </tr>\n",
       "    <tr>\n",
       "      <th>2</th>\n",
       "      <td>True</td>\n",
       "      <td>2.0000</td>\n",
       "    </tr>\n",
       "    <tr>\n",
       "      <th>3</th>\n",
       "      <td>False</td>\n",
       "      <td>30.0000</td>\n",
       "    </tr>\n",
       "    <tr>\n",
       "      <th>4</th>\n",
       "      <td>False</td>\n",
       "      <td>25.0000</td>\n",
       "    </tr>\n",
       "  </tbody>\n",
       "</table>\n",
       "</div>"
      ],
      "text/plain": [
       "   child      age\n",
       "0  False  29.0000\n",
       "1   True   0.9167\n",
       "2   True   2.0000\n",
       "3  False  30.0000\n",
       "4  False  25.0000"
      ]
     },
     "execution_count": 40,
     "metadata": {},
     "output_type": "execute_result"
    }
   ],
   "source": [
    "titanic_dataset.head().filter([\"child\",\"age\"])"
   ]
  },
  {
   "cell_type": "code",
   "execution_count": 41,
   "metadata": {
    "slideshow": {
     "slide_type": "slide"
    }
   },
   "outputs": [
    {
     "data": {
      "text/plain": [
       "0                      Allen, Miss. Elisabeth Walton\n",
       "1                     Allison, Master. Hudson Trevor\n",
       "2                       Allison, Miss. Helen Loraine\n",
       "3               Allison, Mr. Hudson Joshua Creighton\n",
       "4    Allison, Mrs. Hudson J C (Bessie Waldo Daniels)\n",
       "5                                Anderson, Mr. Harry\n",
       "6                  Andrews, Miss. Kornelia Theodosia\n",
       "7                             Andrews, Mr. Thomas Jr\n",
       "8      Appleton, Mrs. Edward Dale (Charlotte Lamson)\n",
       "9                            Artagaveytia, Mr. Ramon\n",
       "Name: name, dtype: object"
      ]
     },
     "execution_count": 41,
     "metadata": {},
     "output_type": "execute_result"
    }
   ],
   "source": [
    "name[:10]"
   ]
  },
  {
   "cell_type": "code",
   "execution_count": 42,
   "metadata": {
    "slideshow": {
     "slide_type": "slide"
    }
   },
   "outputs": [
    {
     "data": {
      "text/html": [
       "<div>\n",
       "<style scoped>\n",
       "    .dataframe tbody tr th:only-of-type {\n",
       "        vertical-align: middle;\n",
       "    }\n",
       "\n",
       "    .dataframe tbody tr th {\n",
       "        vertical-align: top;\n",
       "    }\n",
       "\n",
       "    .dataframe thead th {\n",
       "        text-align: right;\n",
       "    }\n",
       "</style>\n",
       "<table border=\"1\" class=\"dataframe\">\n",
       "  <thead>\n",
       "    <tr style=\"text-align: right;\">\n",
       "      <th></th>\n",
       "      <th>0</th>\n",
       "    </tr>\n",
       "  </thead>\n",
       "  <tbody>\n",
       "    <tr>\n",
       "      <th>0</th>\n",
       "      <td>Miss</td>\n",
       "    </tr>\n",
       "    <tr>\n",
       "      <th>1</th>\n",
       "      <td>Master</td>\n",
       "    </tr>\n",
       "    <tr>\n",
       "      <th>2</th>\n",
       "      <td>Miss</td>\n",
       "    </tr>\n",
       "    <tr>\n",
       "      <th>3</th>\n",
       "      <td>Mr</td>\n",
       "    </tr>\n",
       "    <tr>\n",
       "      <th>4</th>\n",
       "      <td>Mrs</td>\n",
       "    </tr>\n",
       "    <tr>\n",
       "      <th>5</th>\n",
       "      <td>Mr</td>\n",
       "    </tr>\n",
       "    <tr>\n",
       "      <th>6</th>\n",
       "      <td>Miss</td>\n",
       "    </tr>\n",
       "    <tr>\n",
       "      <th>7</th>\n",
       "      <td>Mr</td>\n",
       "    </tr>\n",
       "    <tr>\n",
       "      <th>8</th>\n",
       "      <td>Mrs</td>\n",
       "    </tr>\n",
       "    <tr>\n",
       "      <th>9</th>\n",
       "      <td>Mr</td>\n",
       "    </tr>\n",
       "  </tbody>\n",
       "</table>\n",
       "</div>"
      ],
      "text/plain": [
       "         0\n",
       "0     Miss\n",
       "1   Master\n",
       "2     Miss\n",
       "3       Mr\n",
       "4      Mrs\n",
       "5       Mr\n",
       "6     Miss\n",
       "7       Mr\n",
       "8      Mrs\n",
       "9       Mr"
      ]
     },
     "execution_count": 42,
     "metadata": {},
     "output_type": "execute_result"
    }
   ],
   "source": [
    "name.str.extract(r\",(.*)\\.\")[:10]"
   ]
  },
  {
   "cell_type": "code",
   "execution_count": 43,
   "metadata": {
    "slideshow": {
     "slide_type": "slide"
    }
   },
   "outputs": [],
   "source": [
    "titles = pandas.get_dummies(name.str.extract(r\", (.*)\\.\")\\\n",
    "        .applymap(lambda x: x if x in [\"Miss\",\"Mr\",\"Mrs\"] else \"LordSomething\"))"
   ]
  },
  {
   "cell_type": "code",
   "execution_count": 44,
   "metadata": {},
   "outputs": [
    {
     "data": {
      "text/html": [
       "<div>\n",
       "<style scoped>\n",
       "    .dataframe tbody tr th:only-of-type {\n",
       "        vertical-align: middle;\n",
       "    }\n",
       "\n",
       "    .dataframe tbody tr th {\n",
       "        vertical-align: top;\n",
       "    }\n",
       "\n",
       "    .dataframe thead th {\n",
       "        text-align: right;\n",
       "    }\n",
       "</style>\n",
       "<table border=\"1\" class=\"dataframe\">\n",
       "  <thead>\n",
       "    <tr style=\"text-align: right;\">\n",
       "      <th></th>\n",
       "      <th>0_LordSomething</th>\n",
       "      <th>0_Miss</th>\n",
       "      <th>0_Mr</th>\n",
       "      <th>0_Mrs</th>\n",
       "    </tr>\n",
       "  </thead>\n",
       "  <tbody>\n",
       "    <tr>\n",
       "      <th>0</th>\n",
       "      <td>0</td>\n",
       "      <td>1</td>\n",
       "      <td>0</td>\n",
       "      <td>0</td>\n",
       "    </tr>\n",
       "    <tr>\n",
       "      <th>1</th>\n",
       "      <td>1</td>\n",
       "      <td>0</td>\n",
       "      <td>0</td>\n",
       "      <td>0</td>\n",
       "    </tr>\n",
       "    <tr>\n",
       "      <th>2</th>\n",
       "      <td>0</td>\n",
       "      <td>1</td>\n",
       "      <td>0</td>\n",
       "      <td>0</td>\n",
       "    </tr>\n",
       "    <tr>\n",
       "      <th>3</th>\n",
       "      <td>0</td>\n",
       "      <td>0</td>\n",
       "      <td>1</td>\n",
       "      <td>0</td>\n",
       "    </tr>\n",
       "    <tr>\n",
       "      <th>4</th>\n",
       "      <td>0</td>\n",
       "      <td>0</td>\n",
       "      <td>0</td>\n",
       "      <td>1</td>\n",
       "    </tr>\n",
       "  </tbody>\n",
       "</table>\n",
       "</div>"
      ],
      "text/plain": [
       "   0_LordSomething  0_Miss  0_Mr  0_Mrs\n",
       "0                0       1     0      0\n",
       "1                1       0     0      0\n",
       "2                0       1     0      0\n",
       "3                0       0     1      0\n",
       "4                0       0     0      1"
      ]
     },
     "execution_count": 44,
     "metadata": {},
     "output_type": "execute_result"
    }
   ],
   "source": [
    "titles.head()"
   ]
  },
  {
   "cell_type": "code",
   "execution_count": 45,
   "metadata": {
    "slideshow": {
     "slide_type": "slide"
    }
   },
   "outputs": [],
   "source": [
    "cabin_letter = pandas.get_dummies(cabin.str.extract(\"(.[A-Z])\"))\n",
    "cabin_number = cabin.str.extract(\"[A-Z](.[0-9])\").fillna(0)"
   ]
  },
  {
   "cell_type": "markdown",
   "metadata": {
    "slideshow": {
     "slide_type": "slide"
    }
   },
   "source": [
    "On ajoute les nouvelles variables au jeu de données"
   ]
  },
  {
   "cell_type": "code",
   "execution_count": 46,
   "metadata": {
    "slideshow": {
     "slide_type": "-"
    }
   },
   "outputs": [],
   "source": [
    "titanic_dataset = pandas.concat([titanic_dataset,titles,cabin_letter,cabin_number], axis = 1 )"
   ]
  },
  {
   "cell_type": "markdown",
   "metadata": {},
   "source": [
    "On crée deux nouveaux jeux d'entrainement et de test."
   ]
  },
  {
   "cell_type": "code",
   "execution_count": 47,
   "metadata": {},
   "outputs": [],
   "source": [
    "x_train, x_test, y_train, y_test = train_test_split(titanic_dataset,survived, test_size= 0.5, random_state = 42)"
   ]
  },
  {
   "cell_type": "code",
   "execution_count": 48,
   "metadata": {
    "slideshow": {
     "slide_type": "slide"
    }
   },
   "outputs": [],
   "source": [
    "# Optimisation des paramètres du modèle\n",
    "sgd = sgd.fit(x_train, y_train)"
   ]
  },
  {
   "cell_type": "code",
   "execution_count": 49,
   "metadata": {},
   "outputs": [
    {
     "data": {
      "text/plain": [
       "0.7966360856269113"
      ]
     },
     "execution_count": 49,
     "metadata": {},
     "output_type": "execute_result"
    }
   ],
   "source": [
    "accuracy_train = sklearn.metrics.accuracy_score(y_train, sgd.predict(x_train))\n",
    "accuracy_train"
   ]
  },
  {
   "cell_type": "code",
   "execution_count": 50,
   "metadata": {},
   "outputs": [
    {
     "data": {
      "text/plain": [
       "0.8"
      ]
     },
     "execution_count": 50,
     "metadata": {},
     "output_type": "execute_result"
    }
   ],
   "source": [
    "accuracy_test = sklearn.metrics.accuracy_score(y_test, sgd.predict(x_test))\n",
    "accuracy_test"
   ]
  },
  {
   "cell_type": "code",
   "execution_count": 51,
   "metadata": {
    "slideshow": {
     "slide_type": "slide"
    }
   },
   "outputs": [
    {
     "data": {
      "text/html": [
       "<div>\n",
       "<style scoped>\n",
       "    .dataframe tbody tr th:only-of-type {\n",
       "        vertical-align: middle;\n",
       "    }\n",
       "\n",
       "    .dataframe tbody tr th {\n",
       "        vertical-align: top;\n",
       "    }\n",
       "\n",
       "    .dataframe thead th {\n",
       "        text-align: right;\n",
       "    }\n",
       "</style>\n",
       "<table border=\"1\" class=\"dataframe\">\n",
       "  <thead>\n",
       "    <tr style=\"text-align: right;\">\n",
       "      <th></th>\n",
       "      <th>Modèle</th>\n",
       "      <th>Train</th>\n",
       "      <th>Test</th>\n",
       "      <th>Delta</th>\n",
       "    </tr>\n",
       "  </thead>\n",
       "  <tbody>\n",
       "    <tr>\n",
       "      <th>3</th>\n",
       "      <td>Linéaire 2</td>\n",
       "      <td>0.796636</td>\n",
       "      <td>0.800000</td>\n",
       "      <td>0.003364</td>\n",
       "    </tr>\n",
       "    <tr>\n",
       "      <th>1</th>\n",
       "      <td>Forêt Aléatoire</td>\n",
       "      <td>0.896024</td>\n",
       "      <td>0.798473</td>\n",
       "      <td>0.097551</td>\n",
       "    </tr>\n",
       "    <tr>\n",
       "      <th>2</th>\n",
       "      <td>Forêt Aléatoire 2</td>\n",
       "      <td>0.862385</td>\n",
       "      <td>0.798473</td>\n",
       "      <td>0.063912</td>\n",
       "    </tr>\n",
       "    <tr>\n",
       "      <th>0</th>\n",
       "      <td>Linéaire</td>\n",
       "      <td>0.711009</td>\n",
       "      <td>0.683969</td>\n",
       "      <td>0.027040</td>\n",
       "    </tr>\n",
       "  </tbody>\n",
       "</table>\n",
       "</div>"
      ],
      "text/plain": [
       "              Modèle     Train      Test     Delta\n",
       "3         Linéaire 2  0.796636  0.800000  0.003364\n",
       "1    Forêt Aléatoire  0.896024  0.798473  0.097551\n",
       "2  Forêt Aléatoire 2  0.862385  0.798473  0.063912\n",
       "0           Linéaire  0.711009  0.683969  0.027040"
      ]
     },
     "execution_count": 51,
     "metadata": {},
     "output_type": "execute_result"
    }
   ],
   "source": [
    "add_score(\"Linéaire 2\",accuracy_train,accuracy_test).sort_values(by = \"Test\", ascending = False)"
   ]
  },
  {
   "cell_type": "code",
   "execution_count": 52,
   "metadata": {
    "slideshow": {
     "slide_type": "slide"
    }
   },
   "outputs": [],
   "source": [
    "clf = RandomForestClassifier(max_depth=5, n_estimators = 100)\n",
    "clf = clf.fit(x_train, y_train)"
   ]
  },
  {
   "cell_type": "code",
   "execution_count": 53,
   "metadata": {},
   "outputs": [
    {
     "data": {
      "text/plain": [
       "0.845565749235474"
      ]
     },
     "execution_count": 53,
     "metadata": {},
     "output_type": "execute_result"
    }
   ],
   "source": [
    "accuracy_train = sklearn.metrics.accuracy_score(y_train, clf.predict(x_train))\n",
    "accuracy_train"
   ]
  },
  {
   "cell_type": "code",
   "execution_count": 54,
   "metadata": {},
   "outputs": [
    {
     "data": {
      "text/plain": [
       "0.816793893129771"
      ]
     },
     "execution_count": 54,
     "metadata": {},
     "output_type": "execute_result"
    }
   ],
   "source": [
    "accuracy_test = sklearn.metrics.accuracy_score(y_test, clf.predict(x_test))\n",
    "accuracy_test"
   ]
  },
  {
   "cell_type": "code",
   "execution_count": 55,
   "metadata": {
    "slideshow": {
     "slide_type": "slide"
    }
   },
   "outputs": [
    {
     "data": {
      "text/html": [
       "<div>\n",
       "<style scoped>\n",
       "    .dataframe tbody tr th:only-of-type {\n",
       "        vertical-align: middle;\n",
       "    }\n",
       "\n",
       "    .dataframe tbody tr th {\n",
       "        vertical-align: top;\n",
       "    }\n",
       "\n",
       "    .dataframe thead th {\n",
       "        text-align: right;\n",
       "    }\n",
       "</style>\n",
       "<table border=\"1\" class=\"dataframe\">\n",
       "  <thead>\n",
       "    <tr style=\"text-align: right;\">\n",
       "      <th></th>\n",
       "      <th>Modèle</th>\n",
       "      <th>Train</th>\n",
       "      <th>Test</th>\n",
       "      <th>Delta</th>\n",
       "    </tr>\n",
       "  </thead>\n",
       "  <tbody>\n",
       "    <tr>\n",
       "      <th>4</th>\n",
       "      <td>Forêt Aléatoire 3</td>\n",
       "      <td>0.845566</td>\n",
       "      <td>0.816794</td>\n",
       "      <td>0.028772</td>\n",
       "    </tr>\n",
       "    <tr>\n",
       "      <th>3</th>\n",
       "      <td>Linéaire 2</td>\n",
       "      <td>0.796636</td>\n",
       "      <td>0.800000</td>\n",
       "      <td>0.003364</td>\n",
       "    </tr>\n",
       "    <tr>\n",
       "      <th>1</th>\n",
       "      <td>Forêt Aléatoire</td>\n",
       "      <td>0.896024</td>\n",
       "      <td>0.798473</td>\n",
       "      <td>0.097551</td>\n",
       "    </tr>\n",
       "    <tr>\n",
       "      <th>2</th>\n",
       "      <td>Forêt Aléatoire 2</td>\n",
       "      <td>0.862385</td>\n",
       "      <td>0.798473</td>\n",
       "      <td>0.063912</td>\n",
       "    </tr>\n",
       "    <tr>\n",
       "      <th>0</th>\n",
       "      <td>Linéaire</td>\n",
       "      <td>0.711009</td>\n",
       "      <td>0.683969</td>\n",
       "      <td>0.027040</td>\n",
       "    </tr>\n",
       "  </tbody>\n",
       "</table>\n",
       "</div>"
      ],
      "text/plain": [
       "              Modèle     Train      Test     Delta\n",
       "4  Forêt Aléatoire 3  0.845566  0.816794  0.028772\n",
       "3         Linéaire 2  0.796636  0.800000  0.003364\n",
       "1    Forêt Aléatoire  0.896024  0.798473  0.097551\n",
       "2  Forêt Aléatoire 2  0.862385  0.798473  0.063912\n",
       "0           Linéaire  0.711009  0.683969  0.027040"
      ]
     },
     "execution_count": 55,
     "metadata": {},
     "output_type": "execute_result"
    }
   ],
   "source": [
    "add_score(\"Forêt Aléatoire 3\",accuracy_train,accuracy_test).sort_values(by = \"Test\", ascending = False)"
   ]
  },
  {
   "cell_type": "markdown",
   "metadata": {
    "slideshow": {
     "slide_type": "slide"
    }
   },
   "source": [
    "# Le recherche aléatoire d'hyper-paramètres"
   ]
  },
  {
   "cell_type": "code",
   "execution_count": 56,
   "metadata": {
    "slideshow": {
     "slide_type": "-"
    }
   },
   "outputs": [
    {
     "data": {
      "application/vnd.jupyter.widget-view+json": {
       "model_id": "bd6260c3aeb644ce8185312ce5da7db5",
       "version_major": 2,
       "version_minor": 0
      },
      "text/plain": [
       "HBox(children=(IntProgress(value=0, max=10000), HTML(value='')))"
      ]
     },
     "metadata": {},
     "output_type": "display_data"
    },
    {
     "name": "stdout",
     "output_type": "stream",
     "text": [
      "\n"
     ]
    }
   ],
   "source": [
    "from tqdm import tqdm_notebook as tqdm\n",
    "\n",
    "# Selection du modèle linéaire\n",
    "\n",
    "best_model = None\n",
    "max_accuracy = 0\n",
    "max_accuracy_train = 0\n",
    "\n",
    "for i in tqdm(range(10000)):\n",
    "    \n",
    "    PARAM = {\"max_iter\" : np.random.randint(2000,100000),\\\n",
    "             \"penalty\" : np.random.choice([\"none\", \"l2\", \"l1\", \"elasticnet\"]),\\\n",
    "             \"alpha\": np.random.uniform(0.00001,0.001),\\\n",
    "             \"tol\" : np.random.uniform(0,1e-3)}\n",
    "    \n",
    "    sgd = linear_model.SGDClassifier(**PARAM)\n",
    "    sgd = sgd.fit(x_train, y_train)\n",
    "    \n",
    "    accuracy_train = sklearn.metrics.accuracy_score(y_train, sgd.predict(x_train))\n",
    "    accuracy_test = sklearn.metrics.accuracy_score(y_test, sgd.predict(x_test))\n",
    "    \n",
    "    if accuracy_test > max_accuracy:\n",
    "        max_accuracy = accuracy_test\n",
    "        max_accuracy_train = accuracy_train\n",
    "        best_model = sgd"
   ]
  },
  {
   "cell_type": "code",
   "execution_count": 57,
   "metadata": {
    "slideshow": {
     "slide_type": "slide"
    }
   },
   "outputs": [
    {
     "name": "stdout",
     "output_type": "stream",
     "text": [
      "SGDClassifier(alpha=0.0006810136812994646, average=False, class_weight=None,\n",
      "       early_stopping=False, epsilon=0.1, eta0=0.0, fit_intercept=True,\n",
      "       l1_ratio=0.15, learning_rate='optimal', loss='hinge',\n",
      "       max_iter=83154, n_iter=None, n_iter_no_change=5, n_jobs=None,\n",
      "       penalty='l1', power_t=0.5, random_state=None, shuffle=True,\n",
      "       tol=0.0002960762746992756, validation_fraction=0.1, verbose=0,\n",
      "       warm_start=False)\n",
      "0.7981651376146789 0.8091603053435115\n"
     ]
    },
    {
     "data": {
      "text/html": [
       "<div>\n",
       "<style scoped>\n",
       "    .dataframe tbody tr th:only-of-type {\n",
       "        vertical-align: middle;\n",
       "    }\n",
       "\n",
       "    .dataframe tbody tr th {\n",
       "        vertical-align: top;\n",
       "    }\n",
       "\n",
       "    .dataframe thead th {\n",
       "        text-align: right;\n",
       "    }\n",
       "</style>\n",
       "<table border=\"1\" class=\"dataframe\">\n",
       "  <thead>\n",
       "    <tr style=\"text-align: right;\">\n",
       "      <th></th>\n",
       "      <th>Modèle</th>\n",
       "      <th>Train</th>\n",
       "      <th>Test</th>\n",
       "      <th>Delta</th>\n",
       "    </tr>\n",
       "  </thead>\n",
       "  <tbody>\n",
       "    <tr>\n",
       "      <th>4</th>\n",
       "      <td>Forêt Aléatoire 3</td>\n",
       "      <td>0.845566</td>\n",
       "      <td>0.816794</td>\n",
       "      <td>0.028772</td>\n",
       "    </tr>\n",
       "    <tr>\n",
       "      <th>5</th>\n",
       "      <td>RS Linéaire</td>\n",
       "      <td>0.798165</td>\n",
       "      <td>0.809160</td>\n",
       "      <td>0.010995</td>\n",
       "    </tr>\n",
       "    <tr>\n",
       "      <th>3</th>\n",
       "      <td>Linéaire 2</td>\n",
       "      <td>0.796636</td>\n",
       "      <td>0.800000</td>\n",
       "      <td>0.003364</td>\n",
       "    </tr>\n",
       "    <tr>\n",
       "      <th>1</th>\n",
       "      <td>Forêt Aléatoire</td>\n",
       "      <td>0.896024</td>\n",
       "      <td>0.798473</td>\n",
       "      <td>0.097551</td>\n",
       "    </tr>\n",
       "    <tr>\n",
       "      <th>2</th>\n",
       "      <td>Forêt Aléatoire 2</td>\n",
       "      <td>0.862385</td>\n",
       "      <td>0.798473</td>\n",
       "      <td>0.063912</td>\n",
       "    </tr>\n",
       "    <tr>\n",
       "      <th>0</th>\n",
       "      <td>Linéaire</td>\n",
       "      <td>0.711009</td>\n",
       "      <td>0.683969</td>\n",
       "      <td>0.027040</td>\n",
       "    </tr>\n",
       "  </tbody>\n",
       "</table>\n",
       "</div>"
      ],
      "text/plain": [
       "              Modèle     Train      Test     Delta\n",
       "4  Forêt Aléatoire 3  0.845566  0.816794  0.028772\n",
       "5        RS Linéaire  0.798165  0.809160  0.010995\n",
       "3         Linéaire 2  0.796636  0.800000  0.003364\n",
       "1    Forêt Aléatoire  0.896024  0.798473  0.097551\n",
       "2  Forêt Aléatoire 2  0.862385  0.798473  0.063912\n",
       "0           Linéaire  0.711009  0.683969  0.027040"
      ]
     },
     "execution_count": 57,
     "metadata": {},
     "output_type": "execute_result"
    }
   ],
   "source": [
    "print(best_model)\n",
    "print(max_accuracy_train, max_accuracy)\n",
    "\n",
    "add_score(\"RS Linéaire\",max_accuracy_train,max_accuracy).sort_values(by = \"Test\", ascending = False)"
   ]
  },
  {
   "cell_type": "code",
   "execution_count": 58,
   "metadata": {
    "slideshow": {
     "slide_type": "slide"
    }
   },
   "outputs": [
    {
     "data": {
      "application/vnd.jupyter.widget-view+json": {
       "model_id": "f64bea8a21a34d43acb710af3495bfef",
       "version_major": 2,
       "version_minor": 0
      },
      "text/plain": [
       "HBox(children=(IntProgress(value=0, max=1000), HTML(value='')))"
      ]
     },
     "metadata": {},
     "output_type": "display_data"
    },
    {
     "name": "stdout",
     "output_type": "stream",
     "text": [
      "\n"
     ]
    }
   ],
   "source": [
    "from tqdm import tqdm_notebook as tqdm\n",
    "\n",
    "# Selection de la forêt aléatoire\n",
    "\n",
    "best_model = None\n",
    "max_accuracy = 0\n",
    "best_model_train_accuracy = 0\n",
    "\n",
    "for i in tqdm(range(1000)):\n",
    "    \n",
    "    PARAM = {\"max_depth\" : np.random.randint(4,10),\\\n",
    "             \"n_estimators\" : np.random.randint(10,200),\\\n",
    "             \"min_samples_split\": np.random.randint(2,10),\\\n",
    "             \"min_samples_leaf\": np.random.randint(1,10)}\n",
    "    \n",
    "    clf = RandomForestClassifier(**PARAM)\n",
    "    clf = clf.fit(x_train, y_train)\n",
    "    \n",
    "    accuracy_train = sklearn.metrics.accuracy_score(y_train, clf.predict(x_train))\n",
    "    accuracy_test = sklearn.metrics.accuracy_score(y_test, clf.predict(x_test))\n",
    "    \n",
    "    if accuracy_test > max_accuracy:\n",
    "        max_accuracy = accuracy_test\n",
    "        best_model_train_accuracy = accuracy_train\n",
    "        best_model = clf"
   ]
  },
  {
   "cell_type": "code",
   "execution_count": 59,
   "metadata": {
    "slideshow": {
     "slide_type": "slide"
    }
   },
   "outputs": [
    {
     "name": "stdout",
     "output_type": "stream",
     "text": [
      "RandomForestClassifier(bootstrap=True, class_weight=None, criterion='gini',\n",
      "            max_depth=5, max_features='auto', max_leaf_nodes=None,\n",
      "            min_impurity_decrease=0.0, min_impurity_split=None,\n",
      "            min_samples_leaf=8, min_samples_split=5,\n",
      "            min_weight_fraction_leaf=0.0, n_estimators=80, n_jobs=None,\n",
      "            oob_score=False, random_state=None, verbose=0,\n",
      "            warm_start=False)\n",
      "0.8287461773700305 0.8229007633587786\n"
     ]
    },
    {
     "data": {
      "text/html": [
       "<div>\n",
       "<style scoped>\n",
       "    .dataframe tbody tr th:only-of-type {\n",
       "        vertical-align: middle;\n",
       "    }\n",
       "\n",
       "    .dataframe tbody tr th {\n",
       "        vertical-align: top;\n",
       "    }\n",
       "\n",
       "    .dataframe thead th {\n",
       "        text-align: right;\n",
       "    }\n",
       "</style>\n",
       "<table border=\"1\" class=\"dataframe\">\n",
       "  <thead>\n",
       "    <tr style=\"text-align: right;\">\n",
       "      <th></th>\n",
       "      <th>Modèle</th>\n",
       "      <th>Train</th>\n",
       "      <th>Test</th>\n",
       "      <th>Delta</th>\n",
       "    </tr>\n",
       "  </thead>\n",
       "  <tbody>\n",
       "    <tr>\n",
       "      <th>6</th>\n",
       "      <td>RS Forêt Aléatoire</td>\n",
       "      <td>0.798165</td>\n",
       "      <td>0.822901</td>\n",
       "      <td>0.024736</td>\n",
       "    </tr>\n",
       "    <tr>\n",
       "      <th>4</th>\n",
       "      <td>Forêt Aléatoire 3</td>\n",
       "      <td>0.845566</td>\n",
       "      <td>0.816794</td>\n",
       "      <td>0.028772</td>\n",
       "    </tr>\n",
       "    <tr>\n",
       "      <th>5</th>\n",
       "      <td>RS Linéaire</td>\n",
       "      <td>0.798165</td>\n",
       "      <td>0.809160</td>\n",
       "      <td>0.010995</td>\n",
       "    </tr>\n",
       "    <tr>\n",
       "      <th>3</th>\n",
       "      <td>Linéaire 2</td>\n",
       "      <td>0.796636</td>\n",
       "      <td>0.800000</td>\n",
       "      <td>0.003364</td>\n",
       "    </tr>\n",
       "    <tr>\n",
       "      <th>1</th>\n",
       "      <td>Forêt Aléatoire</td>\n",
       "      <td>0.896024</td>\n",
       "      <td>0.798473</td>\n",
       "      <td>0.097551</td>\n",
       "    </tr>\n",
       "    <tr>\n",
       "      <th>2</th>\n",
       "      <td>Forêt Aléatoire 2</td>\n",
       "      <td>0.862385</td>\n",
       "      <td>0.798473</td>\n",
       "      <td>0.063912</td>\n",
       "    </tr>\n",
       "    <tr>\n",
       "      <th>0</th>\n",
       "      <td>Linéaire</td>\n",
       "      <td>0.711009</td>\n",
       "      <td>0.683969</td>\n",
       "      <td>0.027040</td>\n",
       "    </tr>\n",
       "  </tbody>\n",
       "</table>\n",
       "</div>"
      ],
      "text/plain": [
       "               Modèle     Train      Test     Delta\n",
       "6  RS Forêt Aléatoire  0.798165  0.822901  0.024736\n",
       "4   Forêt Aléatoire 3  0.845566  0.816794  0.028772\n",
       "5         RS Linéaire  0.798165  0.809160  0.010995\n",
       "3          Linéaire 2  0.796636  0.800000  0.003364\n",
       "1     Forêt Aléatoire  0.896024  0.798473  0.097551\n",
       "2   Forêt Aléatoire 2  0.862385  0.798473  0.063912\n",
       "0            Linéaire  0.711009  0.683969  0.027040"
      ]
     },
     "execution_count": 59,
     "metadata": {},
     "output_type": "execute_result"
    }
   ],
   "source": [
    "print(best_model)\n",
    "print(best_model_train_accuracy, max_accuracy)\n",
    "add_score(\"RS Forêt Aléatoire\",max_accuracy_train,max_accuracy).sort_values(by = \"Test\", ascending = False)"
   ]
  },
  {
   "cell_type": "markdown",
   "metadata": {
    "slideshow": {
     "slide_type": "slide"
    }
   },
   "source": [
    "## La performance du modèle dépend:\n",
    "\n",
    "* de la **qualité** de l'information présente dans les **variables**\n",
    "* de la capacité du modèle à définir une **frontière de decision adéquate**\n",
    "* des **hyper-paramètres** du modèle **controllant l'apprentissage**"
   ]
  },
  {
   "cell_type": "markdown",
   "metadata": {
    "slideshow": {
     "slide_type": "slide"
    }
   },
   "source": [
    "## On peut augmenter la performance:\n",
    "\n",
    "* en **optimisant** les **hyper-paramètres** du modèles (**grid-search**/**random-search**)\n",
    "* en utilisant des **modèles plus complexes**\n",
    "* en travaillant sur les **pré-traitements des variables**\n",
    "* en **récoltant** de **nouvelles** variables"
   ]
  },
  {
   "cell_type": "markdown",
   "metadata": {
    "slideshow": {
     "slide_type": "slide"
    }
   },
   "source": [
    "## Importance d'un jeu de test en plus du jeu de validation\n",
    "* **Optimisation** du choix de **modèles** et des **hyper-paramètres** sur le **jeu de validation**\n",
    "* **Surtout** lors d'une **recherche aléatoire**!\n",
    "* Seul un **jeu de test** peut permettre d'estimer la **performance** du modèle"
   ]
  },
  {
   "cell_type": "markdown",
   "metadata": {
    "slideshow": {
     "slide_type": "skip"
    }
   },
   "source": [
    "titanic_dataset[\"survived\"] = survived \n",
    "titanic_dataset.corr()[\"survived\"].sort_values()"
   ]
  },
  {
   "cell_type": "markdown",
   "metadata": {
    "slideshow": {
     "slide_type": "skip"
    }
   },
   "source": [
    "<style>span.chroma{padding: 0px 4px;display: inline-block;min-width: 13px;min-height: 13px;border-radius: 3px;box-sizing: border-box;position: relative;vertical-align: middle;margin-left: 2px;margin-bottom: 2px;position: relative;top: 1px;height: 15px;width: 15px;}</style>\n",
    "<table><tbody>\n",
    "<tr><td><span class='chroma' style='background-color:#67001f'></span> 0_Mr            </td><td>-0.529016</td></tr>\n",
    "<tr><td><span class='chroma' style='background-color:#67001f'></span> male            </td><td>-0.528693</td></tr>\n",
    "<tr><td><span class='chroma' style='background-color:#9b1127'></span> pclass          </td><td>-0.312469</td></tr>\n",
    "<tr><td><span class='chroma' style='background-color:#fcdfce'></span> age             </td><td>-0.050199</td></tr>\n",
    "<tr><td><span class='chroma' style='background-color:#fcdfce'></span> sibsp           </td><td>-0.027825</td></tr>\n",
    "<tr><td><span class='chroma' style='background-color:#fae9de'></span> 0_ G            </td><td>-0.015038</td></tr>\n",
    "<tr><td><span class='chroma' style='background-color:#f8f2ef'></span> 0_ C            </td><td>0.009972</td></tr>\n",
    "<tr><td><span class='chroma' style='background-color:#f0f4f6'></span> family          </td><td>0.026876</td></tr>\n",
    "<tr><td><span class='chroma' style='background-color:#f0f4f6'></span> 0_ E            </td><td>0.041936</td></tr>\n",
    "<tr><td><span class='chroma' style='background-color:#f0f4f6'></span> 0_ D            </td><td>0.049758</td></tr>\n",
    "<tr><td><span class='chroma' style='background-color:#e3eef3'></span> 0_LordSomething </td><td>0.062309</td></tr>\n",
    "<tr><td><span class='chroma' style='background-color:#d6e7f1'></span> parch           </td><td>0.08266</td></tr>\n",
    "<tr><td><span class='chroma' style='background-color:#d6e7f1'></span> 0_ B            </td><td>0.090359</td></tr>\n",
    "<tr><td><span class='chroma' style='background-color:#d6e7f1'></span> child           </td><td>0.100401</td></tr>\n",
    "<tr><td><span class='chroma' style='background-color:#4896c5'></span> fare            </td><td>0.244208</td></tr>\n",
    "<tr><td><span class='chroma' style='background-color:#2e77b5'></span> 0_Miss          </td><td>0.302225</td></tr>\n",
    "<tr><td><span class='chroma' style='background-color:#185595'></span> 0_Mrs           </td><td>0.348711</td></tr>\n",
    "<tr><td><span class='chroma' style='background-color:#053061'></span> female          </td><td>0.528693</td></tr>\n",
    "<tr><td><span class='chroma' style='background-color:#053061'></span> survived        </td><td>1</td></tr>\n",
    "</tbody></table>"
   ]
  },
  {
   "cell_type": "markdown",
   "metadata": {
    "slideshow": {
     "slide_type": "skip"
    }
   },
   "source": [
    "```\n",
    "0_Mr              -0.529016\n",
    "male              -0.528693\n",
    "pclass            -0.312469\n",
    "age               -0.050199\n",
    "sibsp             -0.027825\n",
    "0_ G              -0.015038\n",
    "0_ C               0.009972\n",
    "family             0.026876\n",
    "0_ E               0.041936\n",
    "0_ D               0.049758\n",
    "0_LordSomething    0.062309\n",
    "parch              0.082660\n",
    "0_ B               0.090359\n",
    "child              0.100401\n",
    "fare               0.244208\n",
    "0_Miss             0.302225\n",
    "0_Mrs              0.348711\n",
    "female             0.528693\n",
    "survived           1.000000\n",
    "Name: survived, dtype: float64\n",
    "```"
   ]
  },
  {
   "cell_type": "markdown",
   "metadata": {
    "slideshow": {
     "slide_type": "slide"
    }
   },
   "source": [
    "## Faire du ML avec Python, c'est facile\n",
    "\n",
    "* **Pandas**: \n",
    "    * Traitement des données numériques et catégorielles\n",
    "* **Sklearn**: \n",
    "    * Création rapide de modèles prédictifs simples sur des données tabulaires"
   ]
  },
  {
   "cell_type": "markdown",
   "metadata": {
    "slideshow": {
     "slide_type": "slide"
    }
   },
   "source": [
    "## Mais en pratique, c'est pas si simple\n",
    "* **Type de données**:\n",
    "    * **Textuelles**: Support client/réseaux sociaux\n",
    "    * **Séquentielles**: Texte/parcours utilisateurs(prédiction du churn, de la conversion)/series temporelles \n",
    "    * **Images**\n",
    "* **Types d'algorithmes**: \n",
    "    * **Deep Learning**: Keras, Tensorflow, Pytorch\n",
    "    * **Prise de décision en ligne**: Optimisation publicitaire\n",
    "* **Big Data**:\n",
    "    * Plusieurs milliers de dimensions\n",
    "    * Plusieurs To"
   ]
  },
  {
   "cell_type": "markdown",
   "metadata": {
    "slideshow": {
     "slide_type": "slide"
    }
   },
   "source": [
    "<div align=\"middle\">\n",
    "<video width=\"100%\" muted autoplay>\n",
    "      <source src=\"ressources/end.mp4\" type=\"video/mp4\">\n",
    "</video></div>\n",
    "\n",
    "Robin ALLESIARDO"
   ]
  }
 ],
 "metadata": {
  "celltoolbar": "Diaporama",
  "kernelspec": {
   "display_name": "Python 3",
   "language": "python",
   "name": "python3"
  },
  "language_info": {
   "codemirror_mode": {
    "name": "ipython",
    "version": 3
   },
   "file_extension": ".py",
   "mimetype": "text/x-python",
   "name": "python",
   "nbconvert_exporter": "python",
   "pygments_lexer": "ipython3",
   "version": "3.6.8"
  }
 },
 "nbformat": 4,
 "nbformat_minor": 2
}
